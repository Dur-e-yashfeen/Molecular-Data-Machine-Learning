{
 "cells": [
  {
   "cell_type": "code",
   "execution_count": 1,
   "id": "aba85ef2",
   "metadata": {
    "_cell_guid": "b1076dfc-b9ad-4769-8c92-a6c4dae69d19",
    "_uuid": "8f2839f25d086af736a60e9eeb907d3b93b6e0e5",
    "execution": {
     "iopub.execute_input": "2025-04-15T18:14:44.757243Z",
     "iopub.status.busy": "2025-04-15T18:14:44.756664Z",
     "iopub.status.idle": "2025-04-15T18:14:46.083705Z",
     "shell.execute_reply": "2025-04-15T18:14:46.081855Z"
    },
    "papermill": {
     "duration": 1.337379,
     "end_time": "2025-04-15T18:14:46.086356",
     "exception": false,
     "start_time": "2025-04-15T18:14:44.748977",
     "status": "completed"
    },
    "tags": []
   },
   "outputs": [
    {
     "name": "stdout",
     "output_type": "stream",
     "text": [
      "/kaggle/input/molecular-machine-learning/sample_submission.csv\n",
      "/kaggle/input/molecular-machine-learning/train.csv\n",
      "/kaggle/input/molecular-machine-learning/test.csv\n"
     ]
    }
   ],
   "source": [
    "# This Python 3 environment comes with many helpful analytics libraries installed\n",
    "# It is defined by the kaggle/python Docker image: https://github.com/kaggle/docker-python\n",
    "# For example, here's several helpful packages to load\n",
    "\n",
    "import numpy as np # linear algebra\n",
    "import pandas as pd # data processing, CSV file I/O (e.g. pd.read_csv)\n",
    "\n",
    "# Input data files are available in the read-only \"../input/\" directory\n",
    "# For example, running this (by clicking run or pressing Shift+Enter) will list all files under the input directory\n",
    "\n",
    "import os\n",
    "for dirname, _, filenames in os.walk('/kaggle/input'):\n",
    "    for filename in filenames:\n",
    "        print(os.path.join(dirname, filename))\n",
    "\n",
    "# You can write up to 20GB to the current directory (/kaggle/working/) that gets preserved as output when you create a version using \"Save & Run All\" \n",
    "# You can also write temporary files to /kaggle/temp/, but they won't be saved outside of the current session"
   ]
  },
  {
   "cell_type": "markdown",
   "id": "54811f23",
   "metadata": {
    "papermill": {
     "duration": 0.005085,
     "end_time": "2025-04-15T18:14:46.097348",
     "exception": false,
     "start_time": "2025-04-15T18:14:46.092263",
     "status": "completed"
    },
    "tags": []
   },
   "source": [
    "# Molecular Data Machine Learning \n",
    "### Author : Dur e Yashfeen"
   ]
  },
  {
   "cell_type": "markdown",
   "id": "5a871ca1",
   "metadata": {
    "papermill": {
     "duration": 0.005024,
     "end_time": "2025-04-15T18:14:46.108627",
     "exception": false,
     "start_time": "2025-04-15T18:14:46.103603",
     "status": "completed"
    },
    "tags": []
   },
   "source": [
    "## Step 1: Importing ncessary libraries 📦"
   ]
  },
  {
   "cell_type": "code",
   "execution_count": 2,
   "id": "bcd03531",
   "metadata": {
    "execution": {
     "iopub.execute_input": "2025-04-15T18:14:46.121676Z",
     "iopub.status.busy": "2025-04-15T18:14:46.121018Z",
     "iopub.status.idle": "2025-04-15T18:14:53.978656Z",
     "shell.execute_reply": "2025-04-15T18:14:53.977370Z"
    },
    "papermill": {
     "duration": 7.86685,
     "end_time": "2025-04-15T18:14:53.981374",
     "exception": false,
     "start_time": "2025-04-15T18:14:46.114524",
     "status": "completed"
    },
    "tags": []
   },
   "outputs": [],
   "source": [
    "# Imports\n",
    "import numpy as np\n",
    "import pandas as pd\n",
    "import matplotlib.pyplot as plt\n",
    "import seaborn as sns\n",
    "\n",
    "from sklearn.model_selection import train_test_split\n",
    "from sklearn.preprocessing import StandardScaler\n",
    "from sklearn.metrics import mean_squared_error, r2_score\n",
    "from sklearn.ensemble import RandomForestRegressor, StackingRegressor\n",
    "from xgboost import XGBRegressor\n",
    "from lightgbm import LGBMRegressor\n",
    "\n",
    "import warnings\n",
    "warnings.filterwarnings('ignore')\n",
    "sns.set(style='whitegrid')\n"
   ]
  },
  {
   "cell_type": "markdown",
   "id": "ce80eacb",
   "metadata": {
    "papermill": {
     "duration": 0.005189,
     "end_time": "2025-04-15T18:14:53.992520",
     "exception": false,
     "start_time": "2025-04-15T18:14:53.987331",
     "status": "completed"
    },
    "tags": []
   },
   "source": [
    "## Step 2: 📂  Load the data"
   ]
  },
  {
   "cell_type": "code",
   "execution_count": 3,
   "id": "6d192c4a",
   "metadata": {
    "execution": {
     "iopub.execute_input": "2025-04-15T18:14:54.006343Z",
     "iopub.status.busy": "2025-04-15T18:14:54.005490Z",
     "iopub.status.idle": "2025-04-15T18:14:54.049032Z",
     "shell.execute_reply": "2025-04-15T18:14:54.047397Z"
    },
    "papermill": {
     "duration": 0.053354,
     "end_time": "2025-04-15T18:14:54.051768",
     "exception": false,
     "start_time": "2025-04-15T18:14:53.998414",
     "status": "completed"
    },
    "tags": []
   },
   "outputs": [],
   "source": [
    "# load the data \n",
    "df_tr = pd.read_csv(\"/kaggle/input/molecular-machine-learning/train.csv\")\n",
    "df_ts = pd.read_csv(\"/kaggle/input/molecular-machine-learning/test.csv\")\n",
    "submission_file = pd.read_csv(\"/kaggle/input/molecular-machine-learning/sample_submission.csv\")"
   ]
  },
  {
   "cell_type": "markdown",
   "id": "4a0a9844",
   "metadata": {
    "papermill": {
     "duration": 0.00554,
     "end_time": "2025-04-15T18:14:54.063036",
     "exception": false,
     "start_time": "2025-04-15T18:14:54.057496",
     "status": "completed"
    },
    "tags": []
   },
   "source": [
    "## Step 3: Basic Overview 🔍 "
   ]
  },
  {
   "cell_type": "code",
   "execution_count": 4,
   "id": "04232893",
   "metadata": {
    "execution": {
     "iopub.execute_input": "2025-04-15T18:14:54.075626Z",
     "iopub.status.busy": "2025-04-15T18:14:54.075157Z",
     "iopub.status.idle": "2025-04-15T18:14:54.122118Z",
     "shell.execute_reply": "2025-04-15T18:14:54.120434Z"
    },
    "papermill": {
     "duration": 0.055879,
     "end_time": "2025-04-15T18:14:54.124459",
     "exception": false,
     "start_time": "2025-04-15T18:14:54.068580",
     "status": "completed"
    },
    "tags": []
   },
   "outputs": [
    {
     "name": "stdout",
     "output_type": "stream",
     "text": [
      "<class 'pandas.core.frame.DataFrame'>\n",
      "RangeIndex: 42 entries, 0 to 41\n",
      "Columns: 146 entries, Batch_ID to SDOS5.4\n",
      "dtypes: float64(138), int64(6), object(2)\n",
      "memory usage: 48.0+ KB\n"
     ]
    }
   ],
   "source": [
    "df_tr.info()"
   ]
  },
  {
   "cell_type": "code",
   "execution_count": 5,
   "id": "a837bb0e",
   "metadata": {
    "execution": {
     "iopub.execute_input": "2025-04-15T18:14:54.137263Z",
     "iopub.status.busy": "2025-04-15T18:14:54.136709Z",
     "iopub.status.idle": "2025-04-15T18:14:54.421788Z",
     "shell.execute_reply": "2025-04-15T18:14:54.420401Z"
    },
    "papermill": {
     "duration": 0.294329,
     "end_time": "2025-04-15T18:14:54.424363",
     "exception": false,
     "start_time": "2025-04-15T18:14:54.130034",
     "status": "completed"
    },
    "tags": []
   },
   "outputs": [
    {
     "data": {
      "text/html": [
       "<div>\n",
       "<style scoped>\n",
       "    .dataframe tbody tr th:only-of-type {\n",
       "        vertical-align: middle;\n",
       "    }\n",
       "\n",
       "    .dataframe tbody tr th {\n",
       "        vertical-align: top;\n",
       "    }\n",
       "\n",
       "    .dataframe thead th {\n",
       "        text-align: right;\n",
       "    }\n",
       "</style>\n",
       "<table border=\"1\" class=\"dataframe\">\n",
       "  <thead>\n",
       "    <tr style=\"text-align: right;\">\n",
       "      <th></th>\n",
       "      <th>T80</th>\n",
       "      <th>Mass</th>\n",
       "      <th>HAcceptors</th>\n",
       "      <th>HDonors</th>\n",
       "      <th>LogP</th>\n",
       "      <th>Asphericity</th>\n",
       "      <th>Rg</th>\n",
       "      <th>TPSA</th>\n",
       "      <th>RingCount</th>\n",
       "      <th>NumRotatableBonds</th>\n",
       "      <th>...</th>\n",
       "      <th>SDOS4.5</th>\n",
       "      <th>SDOS4.6</th>\n",
       "      <th>SDOS4.7</th>\n",
       "      <th>SDOS4.8</th>\n",
       "      <th>SDOS4.9</th>\n",
       "      <th>SDOS5.0</th>\n",
       "      <th>SDOS5.1</th>\n",
       "      <th>SDOS5.2</th>\n",
       "      <th>SDOS5.3</th>\n",
       "      <th>SDOS5.4</th>\n",
       "    </tr>\n",
       "  </thead>\n",
       "  <tbody>\n",
       "    <tr>\n",
       "      <th>count</th>\n",
       "      <td>42.000000</td>\n",
       "      <td>42.000000</td>\n",
       "      <td>42.000000</td>\n",
       "      <td>42.000000</td>\n",
       "      <td>42.000000</td>\n",
       "      <td>42.000000</td>\n",
       "      <td>42.000000</td>\n",
       "      <td>42.000000</td>\n",
       "      <td>42.000000</td>\n",
       "      <td>42.000000</td>\n",
       "      <td>...</td>\n",
       "      <td>42.000000</td>\n",
       "      <td>42.000000</td>\n",
       "      <td>42.000000</td>\n",
       "      <td>42.000000</td>\n",
       "      <td>42.000000</td>\n",
       "      <td>42.000000</td>\n",
       "      <td>42.000000</td>\n",
       "      <td>42.000000</td>\n",
       "      <td>42.000000</td>\n",
       "      <td>42.000000</td>\n",
       "    </tr>\n",
       "    <tr>\n",
       "      <th>mean</th>\n",
       "      <td>22.710476</td>\n",
       "      <td>601.389929</td>\n",
       "      <td>5.500000</td>\n",
       "      <td>0.309524</td>\n",
       "      <td>10.854289</td>\n",
       "      <td>0.532680</td>\n",
       "      <td>6.355368</td>\n",
       "      <td>36.990952</td>\n",
       "      <td>5.714286</td>\n",
       "      <td>11.690476</td>\n",
       "      <td>...</td>\n",
       "      <td>0.874759</td>\n",
       "      <td>0.763264</td>\n",
       "      <td>0.668653</td>\n",
       "      <td>0.595143</td>\n",
       "      <td>0.560035</td>\n",
       "      <td>0.571105</td>\n",
       "      <td>0.624577</td>\n",
       "      <td>0.706185</td>\n",
       "      <td>0.786314</td>\n",
       "      <td>0.833714</td>\n",
       "    </tr>\n",
       "    <tr>\n",
       "      <th>std</th>\n",
       "      <td>26.896407</td>\n",
       "      <td>176.251665</td>\n",
       "      <td>2.244234</td>\n",
       "      <td>0.604378</td>\n",
       "      <td>3.504098</td>\n",
       "      <td>0.217963</td>\n",
       "      <td>1.264587</td>\n",
       "      <td>30.888275</td>\n",
       "      <td>1.743080</td>\n",
       "      <td>6.884015</td>\n",
       "      <td>...</td>\n",
       "      <td>0.993377</td>\n",
       "      <td>0.872205</td>\n",
       "      <td>0.720167</td>\n",
       "      <td>0.580504</td>\n",
       "      <td>0.541022</td>\n",
       "      <td>0.568734</td>\n",
       "      <td>0.597270</td>\n",
       "      <td>0.665208</td>\n",
       "      <td>0.769713</td>\n",
       "      <td>0.814881</td>\n",
       "    </tr>\n",
       "    <tr>\n",
       "      <th>min</th>\n",
       "      <td>1.500000</td>\n",
       "      <td>238.315000</td>\n",
       "      <td>2.000000</td>\n",
       "      <td>0.000000</td>\n",
       "      <td>3.872100</td>\n",
       "      <td>0.169945</td>\n",
       "      <td>3.629240</td>\n",
       "      <td>0.000000</td>\n",
       "      <td>2.000000</td>\n",
       "      <td>2.000000</td>\n",
       "      <td>...</td>\n",
       "      <td>0.012396</td>\n",
       "      <td>0.014004</td>\n",
       "      <td>0.024370</td>\n",
       "      <td>0.037166</td>\n",
       "      <td>0.039435</td>\n",
       "      <td>0.051700</td>\n",
       "      <td>0.049996</td>\n",
       "      <td>0.034589</td>\n",
       "      <td>0.030793</td>\n",
       "      <td>0.057340</td>\n",
       "    </tr>\n",
       "    <tr>\n",
       "      <th>25%</th>\n",
       "      <td>5.085000</td>\n",
       "      <td>483.691250</td>\n",
       "      <td>4.000000</td>\n",
       "      <td>0.000000</td>\n",
       "      <td>8.369075</td>\n",
       "      <td>0.345224</td>\n",
       "      <td>5.593117</td>\n",
       "      <td>17.980000</td>\n",
       "      <td>5.000000</td>\n",
       "      <td>4.000000</td>\n",
       "      <td>...</td>\n",
       "      <td>0.158100</td>\n",
       "      <td>0.107728</td>\n",
       "      <td>0.150733</td>\n",
       "      <td>0.195820</td>\n",
       "      <td>0.239064</td>\n",
       "      <td>0.283035</td>\n",
       "      <td>0.220079</td>\n",
       "      <td>0.235281</td>\n",
       "      <td>0.250824</td>\n",
       "      <td>0.236877</td>\n",
       "    </tr>\n",
       "    <tr>\n",
       "      <th>50%</th>\n",
       "      <td>10.485000</td>\n",
       "      <td>570.826000</td>\n",
       "      <td>5.000000</td>\n",
       "      <td>0.000000</td>\n",
       "      <td>10.801500</td>\n",
       "      <td>0.541883</td>\n",
       "      <td>6.289388</td>\n",
       "      <td>36.225000</td>\n",
       "      <td>5.000000</td>\n",
       "      <td>14.000000</td>\n",
       "      <td>...</td>\n",
       "      <td>0.449055</td>\n",
       "      <td>0.363273</td>\n",
       "      <td>0.333565</td>\n",
       "      <td>0.330316</td>\n",
       "      <td>0.410859</td>\n",
       "      <td>0.371651</td>\n",
       "      <td>0.427824</td>\n",
       "      <td>0.475996</td>\n",
       "      <td>0.488769</td>\n",
       "      <td>0.473099</td>\n",
       "    </tr>\n",
       "    <tr>\n",
       "      <th>75%</th>\n",
       "      <td>30.182500</td>\n",
       "      <td>751.587000</td>\n",
       "      <td>6.750000</td>\n",
       "      <td>0.000000</td>\n",
       "      <td>13.054580</td>\n",
       "      <td>0.714117</td>\n",
       "      <td>6.951290</td>\n",
       "      <td>50.075000</td>\n",
       "      <td>7.000000</td>\n",
       "      <td>17.000000</td>\n",
       "      <td>...</td>\n",
       "      <td>1.232151</td>\n",
       "      <td>1.191322</td>\n",
       "      <td>1.086311</td>\n",
       "      <td>0.913003</td>\n",
       "      <td>0.712412</td>\n",
       "      <td>0.718112</td>\n",
       "      <td>0.964893</td>\n",
       "      <td>1.124234</td>\n",
       "      <td>1.386218</td>\n",
       "      <td>1.418428</td>\n",
       "    </tr>\n",
       "    <tr>\n",
       "      <th>max</th>\n",
       "      <td>103.860000</td>\n",
       "      <td>1005.426000</td>\n",
       "      <td>12.000000</td>\n",
       "      <td>2.000000</td>\n",
       "      <td>17.767000</td>\n",
       "      <td>0.913014</td>\n",
       "      <td>10.519416</td>\n",
       "      <td>132.990000</td>\n",
       "      <td>9.000000</td>\n",
       "      <td>23.000000</td>\n",
       "      <td>...</td>\n",
       "      <td>3.765836</td>\n",
       "      <td>2.986408</td>\n",
       "      <td>2.431030</td>\n",
       "      <td>2.394081</td>\n",
       "      <td>2.738119</td>\n",
       "      <td>3.060757</td>\n",
       "      <td>3.103451</td>\n",
       "      <td>2.908210</td>\n",
       "      <td>2.818927</td>\n",
       "      <td>3.188643</td>\n",
       "    </tr>\n",
       "  </tbody>\n",
       "</table>\n",
       "<p>8 rows × 144 columns</p>\n",
       "</div>"
      ],
      "text/plain": [
       "              T80         Mass  HAcceptors    HDonors       LogP  Asphericity  \\\n",
       "count   42.000000    42.000000   42.000000  42.000000  42.000000    42.000000   \n",
       "mean    22.710476   601.389929    5.500000   0.309524  10.854289     0.532680   \n",
       "std     26.896407   176.251665    2.244234   0.604378   3.504098     0.217963   \n",
       "min      1.500000   238.315000    2.000000   0.000000   3.872100     0.169945   \n",
       "25%      5.085000   483.691250    4.000000   0.000000   8.369075     0.345224   \n",
       "50%     10.485000   570.826000    5.000000   0.000000  10.801500     0.541883   \n",
       "75%     30.182500   751.587000    6.750000   0.000000  13.054580     0.714117   \n",
       "max    103.860000  1005.426000   12.000000   2.000000  17.767000     0.913014   \n",
       "\n",
       "              Rg        TPSA  RingCount  NumRotatableBonds  ...    SDOS4.5  \\\n",
       "count  42.000000   42.000000  42.000000          42.000000  ...  42.000000   \n",
       "mean    6.355368   36.990952   5.714286          11.690476  ...   0.874759   \n",
       "std     1.264587   30.888275   1.743080           6.884015  ...   0.993377   \n",
       "min     3.629240    0.000000   2.000000           2.000000  ...   0.012396   \n",
       "25%     5.593117   17.980000   5.000000           4.000000  ...   0.158100   \n",
       "50%     6.289388   36.225000   5.000000          14.000000  ...   0.449055   \n",
       "75%     6.951290   50.075000   7.000000          17.000000  ...   1.232151   \n",
       "max    10.519416  132.990000   9.000000          23.000000  ...   3.765836   \n",
       "\n",
       "         SDOS4.6    SDOS4.7    SDOS4.8    SDOS4.9    SDOS5.0    SDOS5.1  \\\n",
       "count  42.000000  42.000000  42.000000  42.000000  42.000000  42.000000   \n",
       "mean    0.763264   0.668653   0.595143   0.560035   0.571105   0.624577   \n",
       "std     0.872205   0.720167   0.580504   0.541022   0.568734   0.597270   \n",
       "min     0.014004   0.024370   0.037166   0.039435   0.051700   0.049996   \n",
       "25%     0.107728   0.150733   0.195820   0.239064   0.283035   0.220079   \n",
       "50%     0.363273   0.333565   0.330316   0.410859   0.371651   0.427824   \n",
       "75%     1.191322   1.086311   0.913003   0.712412   0.718112   0.964893   \n",
       "max     2.986408   2.431030   2.394081   2.738119   3.060757   3.103451   \n",
       "\n",
       "         SDOS5.2    SDOS5.3    SDOS5.4  \n",
       "count  42.000000  42.000000  42.000000  \n",
       "mean    0.706185   0.786314   0.833714  \n",
       "std     0.665208   0.769713   0.814881  \n",
       "min     0.034589   0.030793   0.057340  \n",
       "25%     0.235281   0.250824   0.236877  \n",
       "50%     0.475996   0.488769   0.473099  \n",
       "75%     1.124234   1.386218   1.418428  \n",
       "max     2.908210   2.818927   3.188643  \n",
       "\n",
       "[8 rows x 144 columns]"
      ]
     },
     "execution_count": 5,
     "metadata": {},
     "output_type": "execute_result"
    }
   ],
   "source": [
    "df_tr.describe()"
   ]
  },
  {
   "cell_type": "markdown",
   "id": "13afc241",
   "metadata": {
    "papermill": {
     "duration": 0.005558,
     "end_time": "2025-04-15T18:14:54.436169",
     "exception": false,
     "start_time": "2025-04-15T18:14:54.430611",
     "status": "completed"
    },
    "tags": []
   },
   "source": [
    "## Step 4: Imputing missing Values & Outliers"
   ]
  },
  {
   "cell_type": "code",
   "execution_count": 6,
   "id": "12042749",
   "metadata": {
    "execution": {
     "iopub.execute_input": "2025-04-15T18:14:54.452131Z",
     "iopub.status.busy": "2025-04-15T18:14:54.451625Z",
     "iopub.status.idle": "2025-04-15T18:14:54.459800Z",
     "shell.execute_reply": "2025-04-15T18:14:54.458197Z"
    },
    "papermill": {
     "duration": 0.017701,
     "end_time": "2025-04-15T18:14:54.461982",
     "exception": false,
     "start_time": "2025-04-15T18:14:54.444281",
     "status": "completed"
    },
    "tags": []
   },
   "outputs": [
    {
     "data": {
      "text/plain": [
       "Index(['Batch_ID', 'T80', 'Smiles', 'Mass', 'HAcceptors', 'HDonors', 'LogP',\n",
       "       'Asphericity', 'Rg', 'TPSA',\n",
       "       ...\n",
       "       'SDOS4.5', 'SDOS4.6', 'SDOS4.7', 'SDOS4.8', 'SDOS4.9', 'SDOS5.0',\n",
       "       'SDOS5.1', 'SDOS5.2', 'SDOS5.3', 'SDOS5.4'],\n",
       "      dtype='object', length=146)"
      ]
     },
     "execution_count": 6,
     "metadata": {},
     "output_type": "execute_result"
    }
   ],
   "source": [
    "df_tr.columns"
   ]
  },
  {
   "cell_type": "code",
   "execution_count": 7,
   "id": "c6e9d9bb",
   "metadata": {
    "execution": {
     "iopub.execute_input": "2025-04-15T18:14:54.476249Z",
     "iopub.status.busy": "2025-04-15T18:14:54.475750Z",
     "iopub.status.idle": "2025-04-15T18:14:54.485882Z",
     "shell.execute_reply": "2025-04-15T18:14:54.484433Z"
    },
    "papermill": {
     "duration": 0.0198,
     "end_time": "2025-04-15T18:14:54.487995",
     "exception": false,
     "start_time": "2025-04-15T18:14:54.468195",
     "status": "completed"
    },
    "tags": []
   },
   "outputs": [
    {
     "data": {
      "text/plain": [
       "Batch_ID      0\n",
       "T80           0\n",
       "Smiles        0\n",
       "Mass          0\n",
       "HAcceptors    0\n",
       "             ..\n",
       "SDOS5.0       0\n",
       "SDOS5.1       0\n",
       "SDOS5.2       0\n",
       "SDOS5.3       0\n",
       "SDOS5.4       0\n",
       "Length: 146, dtype: int64"
      ]
     },
     "execution_count": 7,
     "metadata": {},
     "output_type": "execute_result"
    }
   ],
   "source": [
    "df_tr.isnull().sum()"
   ]
  },
  {
   "cell_type": "code",
   "execution_count": 8,
   "id": "a09cd16b",
   "metadata": {
    "execution": {
     "iopub.execute_input": "2025-04-15T18:14:54.502765Z",
     "iopub.status.busy": "2025-04-15T18:14:54.502284Z",
     "iopub.status.idle": "2025-04-15T18:14:55.085887Z",
     "shell.execute_reply": "2025-04-15T18:14:55.084415Z"
    },
    "papermill": {
     "duration": 0.594156,
     "end_time": "2025-04-15T18:14:55.088565",
     "exception": false,
     "start_time": "2025-04-15T18:14:54.494409",
     "status": "completed"
    },
    "tags": []
   },
   "outputs": [],
   "source": [
    "# Outlier imputation function\n",
    "def impute_outliers(df):\n",
    "    df_out = df.copy()\n",
    "    numeric_cols = df_out.select_dtypes(include=[np.number]).columns.tolist()\n",
    "    if \"T80\" in numeric_cols:\n",
    "        numeric_cols.remove(\"T80\")  # exclude target from imputation\n",
    "    for col in numeric_cols:\n",
    "        Q1 = df_out[col].quantile(0.25)\n",
    "        Q3 = df_out[col].quantile(0.75)\n",
    "        IQR = Q3 - Q1\n",
    "        lower = Q1 - 1.5 * IQR\n",
    "        upper = Q3 + 1.5 * IQR\n",
    "        outliers = (df_out[col] < lower) | (df_out[col] > upper)\n",
    "        median = df_out[col].median()\n",
    "        df_out.loc[outliers, col] = median\n",
    "    return df_out\n",
    "\n",
    "# Clean both train and test\n",
    "df_tr = impute_outliers(df_tr)\n",
    "df_ts = impute_outliers(df_ts)"
   ]
  },
  {
   "cell_type": "markdown",
   "id": "747c1150",
   "metadata": {
    "papermill": {
     "duration": 0.00573,
     "end_time": "2025-04-15T18:14:55.100882",
     "exception": false,
     "start_time": "2025-04-15T18:14:55.095152",
     "status": "completed"
    },
    "tags": []
   },
   "source": [
    "## Step 5: Visualization"
   ]
  },
  {
   "cell_type": "code",
   "execution_count": 9,
   "id": "3a69b927",
   "metadata": {
    "execution": {
     "iopub.execute_input": "2025-04-15T18:14:55.114932Z",
     "iopub.status.busy": "2025-04-15T18:14:55.114413Z",
     "iopub.status.idle": "2025-04-15T18:14:55.691540Z",
     "shell.execute_reply": "2025-04-15T18:14:55.690157Z"
    },
    "papermill": {
     "duration": 0.586959,
     "end_time": "2025-04-15T18:14:55.693927",
     "exception": false,
     "start_time": "2025-04-15T18:14:55.106968",
     "status": "completed"
    },
    "tags": []
   },
   "outputs": [
    {
     "data": {
      "image/png": "[encoded data removed]",
      "text/plain": [
       "<Figure size 800x500 with 1 Axes>"
      ]
     },
     "metadata": {},
     "output_type": "display_data"
    }
   ],
   "source": [
    "plt.figure(figsize=(8,5))\n",
    "sns.histplot(df_tr['T80'], bins=50, kde=True)\n",
    "plt.title('Target Variable (T80) Distribution')\n",
    "plt.show()"
   ]
  },
  {
   "cell_type": "code",
   "execution_count": 10,
   "id": "a5c06322",
   "metadata": {
    "execution": {
     "iopub.execute_input": "2025-04-15T18:14:55.710311Z",
     "iopub.status.busy": "2025-04-15T18:14:55.709837Z",
     "iopub.status.idle": "2025-04-15T18:14:56.359275Z",
     "shell.execute_reply": "2025-04-15T18:14:56.357362Z"
    },
    "papermill": {
     "duration": 0.660693,
     "end_time": "2025-04-15T18:14:56.361762",
     "exception": false,
     "start_time": "2025-04-15T18:14:55.701069",
     "status": "completed"
    },
    "tags": []
   },
   "outputs": [
    {
     "data": {
      "image/png": "[encoded data removed]",
      "text/plain": [
       "<Figure size 1400x1000 with 2 Axes>"
      ]
     },
     "metadata": {},
     "output_type": "display_data"
    }
   ],
   "source": [
    "# Filter only numeric columns for correlation\n",
    "numeric_df = df_tr.select_dtypes(include=[np.number])\n",
    "\n",
    "# Now compute correlation safely\n",
    "plt.figure(figsize=(14,10))\n",
    "corr = numeric_df.corr()\n",
    "sns.heatmap(corr[['T80']].sort_values(by='T80', ascending=False).head(30), annot=True, cmap='coolwarm')\n",
    "plt.title('Top Correlated Features with T80')\n",
    "plt.show()"
   ]
  },
  {
   "cell_type": "code",
   "execution_count": 11,
   "id": "14c910a7",
   "metadata": {
    "execution": {
     "iopub.execute_input": "2025-04-15T18:14:56.382250Z",
     "iopub.status.busy": "2025-04-15T18:14:56.381764Z",
     "iopub.status.idle": "2025-04-15T18:14:56.406783Z",
     "shell.execute_reply": "2025-04-15T18:14:56.404885Z"
    },
    "papermill": {
     "duration": 0.037772,
     "end_time": "2025-04-15T18:14:56.409221",
     "exception": false,
     "start_time": "2025-04-15T18:14:56.371449",
     "status": "completed"
    },
    "tags": []
   },
   "outputs": [],
   "source": [
    "# ====================================================\n",
    "# 🧹 Preprocessing\n",
    "# ====================================================\n",
    "# Drop non-numeric or non-useful columns\n",
    "df_tr = df_tr.drop(['Batch_ID', 'Smiles'], axis=1)\n",
    "\n",
    "# Separate features and target\n",
    "X = df_tr.drop('T80', axis=1)\n",
    "y = df_tr['T80']\n",
    "feature_columns = X.columns  # Save column names\n",
    "\n",
    "# Scale features\n",
    "scaler = StandardScaler()\n",
    "X_scaled = scaler.fit_transform(X)\n",
    "\n",
    "# Train-test split\n",
    "X_train, X_val, y_train, y_val = train_test_split(X_scaled, y, test_size=0.2, random_state=42)\n",
    "\n",
    "# Process test data\n",
    "df_ts = df_ts.drop(['Batch_ID', 'Smiles'], axis=1)\n",
    "df_ts = df_ts[feature_columns]  # Use saved column names\n",
    "X_test_scaled = scaler.transform(df_ts)"
   ]
  },
  {
   "cell_type": "code",
   "execution_count": 12,
   "id": "f0051589",
   "metadata": {
    "execution": {
     "iopub.execute_input": "2025-04-15T18:14:56.429565Z",
     "iopub.status.busy": "2025-04-15T18:14:56.429029Z",
     "iopub.status.idle": "2025-04-15T18:15:03.093862Z",
     "shell.execute_reply": "2025-04-15T18:15:03.091757Z"
    },
    "papermill": {
     "duration": 6.678046,
     "end_time": "2025-04-15T18:15:03.096670",
     "exception": false,
     "start_time": "2025-04-15T18:14:56.418624",
     "status": "completed"
    },
    "tags": []
   },
   "outputs": [
    {
     "data": {
      "text/html": [
       "<style>#sk-container-id-1 {color: black;background-color: white;}#sk-container-id-1 pre{padding: 0;}#sk-container-id-1 div.sk-toggleable {background-color: white;}#sk-container-id-1 label.sk-toggleable__label {cursor: pointer;display: block;width: 100%;margin-bottom: 0;padding: 0.3em;box-sizing: border-box;text-align: center;}#sk-container-id-1 label.sk-toggleable__label-arrow:before {content: \"▸\";float: left;margin-right: 0.25em;color: #696969;}#sk-container-id-1 label.sk-toggleable__label-arrow:hover:before {color: black;}#sk-container-id-1 div.sk-estimator:hover label.sk-toggleable__label-arrow:before {color: black;}#sk-container-id-1 div.sk-toggleable__content {max-height: 0;max-width: 0;overflow: hidden;text-align: left;background-color: #f0f8ff;}#sk-container-id-1 div.sk-toggleable__content pre {margin: 0.2em;color: black;border-radius: 0.25em;background-color: #f0f8ff;}#sk-container-id-1 input.sk-toggleable__control:checked~div.sk-toggleable__content {max-height: 200px;max-width: 100%;overflow: auto;}#sk-container-id-1 input.sk-toggleable__control:checked~label.sk-toggleable__label-arrow:before {content: \"▾\";}#sk-container-id-1 div.sk-estimator input.sk-toggleable__control:checked~label.sk-toggleable__label {background-color: #d4ebff;}#sk-container-id-1 div.sk-label input.sk-toggleable__control:checked~label.sk-toggleable__label {background-color: #d4ebff;}#sk-container-id-1 input.sk-hidden--visually {border: 0;clip: rect(1px 1px 1px 1px);clip: rect(1px, 1px, 1px, 1px);height: 1px;margin: -1px;overflow: hidden;padding: 0;position: absolute;width: 1px;}#sk-container-id-1 div.sk-estimator {font-family: monospace;background-color: #f0f8ff;border: 1px dotted black;border-radius: 0.25em;box-sizing: border-box;margin-bottom: 0.5em;}#sk-container-id-1 div.sk-estimator:hover {background-color: #d4ebff;}#sk-container-id-1 div.sk-parallel-item::after {content: \"\";width: 100%;border-bottom: 1px solid gray;flex-grow: 1;}#sk-container-id-1 div.sk-label:hover label.sk-toggleable__label {background-color: #d4ebff;}#sk-container-id-1 div.sk-serial::before {content: \"\";position: absolute;border-left: 1px solid gray;box-sizing: border-box;top: 0;bottom: 0;left: 50%;z-index: 0;}#sk-container-id-1 div.sk-serial {display: flex;flex-direction: column;align-items: center;background-color: white;padding-right: 0.2em;padding-left: 0.2em;position: relative;}#sk-container-id-1 div.sk-item {position: relative;z-index: 1;}#sk-container-id-1 div.sk-parallel {display: flex;align-items: stretch;justify-content: center;background-color: white;position: relative;}#sk-container-id-1 div.sk-item::before, #sk-container-id-1 div.sk-parallel-item::before {content: \"\";position: absolute;border-left: 1px solid gray;box-sizing: border-box;top: 0;bottom: 0;left: 50%;z-index: -1;}#sk-container-id-1 div.sk-parallel-item {display: flex;flex-direction: column;z-index: 1;position: relative;background-color: white;}#sk-container-id-1 div.sk-parallel-item:first-child::after {align-self: flex-end;width: 50%;}#sk-container-id-1 div.sk-parallel-item:last-child::after {align-self: flex-start;width: 50%;}#sk-container-id-1 div.sk-parallel-item:only-child::after {width: 0;}#sk-container-id-1 div.sk-dashed-wrapped {border: 1px dashed gray;margin: 0 0.4em 0.5em 0.4em;box-sizing: border-box;padding-bottom: 0.4em;background-color: white;}#sk-container-id-1 div.sk-label label {font-family: monospace;font-weight: bold;display: inline-block;line-height: 1.2em;}#sk-container-id-1 div.sk-label-container {text-align: center;}#sk-container-id-1 div.sk-container {/* jupyter's `normalize.less` sets `[hidden] { display: none; }` but bootstrap.min.css set `[hidden] { display: none !important; }` so we also need the `!important` here to be able to override the default hidden behavior on the sphinx rendered scikit-learn.org. See: https://github.com/scikit-learn/scikit-learn/issues/21755 */display: inline-block !important;position: relative;}#sk-container-id-1 div.sk-text-repr-fallback {display: none;}</style><div id=\"sk-container-id-1\" class=\"sk-top-container\"><div class=\"sk-text-repr-fallback\"><pre>StackingRegressor(estimators=[(&#x27;xgb&#x27;,\n",
       "                               XGBRegressor(base_score=None, booster=None,\n",
       "                                            callbacks=None,\n",
       "                                            colsample_bylevel=None,\n",
       "                                            colsample_bynode=None,\n",
       "                                            colsample_bytree=None, device=None,\n",
       "                                            early_stopping_rounds=None,\n",
       "                                            enable_categorical=False,\n",
       "                                            eval_metric=None,\n",
       "                                            feature_types=None, gamma=None,\n",
       "                                            grow_policy=None,\n",
       "                                            importance_type=None,\n",
       "                                            interaction_constraints=None,\n",
       "                                            learning_ra...\n",
       "                                            max_delta_step=None, max_depth=None,\n",
       "                                            max_leaves=None,\n",
       "                                            min_child_weight=None, missing=nan,\n",
       "                                            monotone_constraints=None,\n",
       "                                            multi_strategy=None,\n",
       "                                            n_estimators=200, n_jobs=-1,\n",
       "                                            num_parallel_tree=None,\n",
       "                                            random_state=42, ...)),\n",
       "                              (&#x27;lgb&#x27;,\n",
       "                               LGBMRegressor(learning_rate=0.05,\n",
       "                                             n_estimators=200,\n",
       "                                             random_state=42))],\n",
       "                  final_estimator=RandomForestRegressor(n_estimators=200,\n",
       "                                                        random_state=42),\n",
       "                  n_jobs=-1)</pre><b>In a Jupyter environment, please rerun this cell to show the HTML representation or trust the notebook. <br />On GitHub, the HTML representation is unable to render, please try loading this page with nbviewer.org.</b></div><div class=\"sk-container\" hidden><div class=\"sk-item sk-dashed-wrapped\"><div class=\"sk-label-container\"><div class=\"sk-label sk-toggleable\"><input class=\"sk-toggleable__control sk-hidden--visually\" id=\"sk-estimator-id-1\" type=\"checkbox\" ><label for=\"sk-estimator-id-1\" class=\"sk-toggleable__label sk-toggleable__label-arrow\">StackingRegressor</label><div class=\"sk-toggleable__content\"><pre>StackingRegressor(estimators=[(&#x27;xgb&#x27;,\n",
       "                               XGBRegressor(base_score=None, booster=None,\n",
       "                                            callbacks=None,\n",
       "                                            colsample_bylevel=None,\n",
       "                                            colsample_bynode=None,\n",
       "                                            colsample_bytree=None, device=None,\n",
       "                                            early_stopping_rounds=None,\n",
       "                                            enable_categorical=False,\n",
       "                                            eval_metric=None,\n",
       "                                            feature_types=None, gamma=None,\n",
       "                                            grow_policy=None,\n",
       "                                            importance_type=None,\n",
       "                                            interaction_constraints=None,\n",
       "                                            learning_ra...\n",
       "                                            max_delta_step=None, max_depth=None,\n",
       "                                            max_leaves=None,\n",
       "                                            min_child_weight=None, missing=nan,\n",
       "                                            monotone_constraints=None,\n",
       "                                            multi_strategy=None,\n",
       "                                            n_estimators=200, n_jobs=-1,\n",
       "                                            num_parallel_tree=None,\n",
       "                                            random_state=42, ...)),\n",
       "                              (&#x27;lgb&#x27;,\n",
       "                               LGBMRegressor(learning_rate=0.05,\n",
       "                                             n_estimators=200,\n",
       "                                             random_state=42))],\n",
       "                  final_estimator=RandomForestRegressor(n_estimators=200,\n",
       "                                                        random_state=42),\n",
       "                  n_jobs=-1)</pre></div></div></div><div class=\"sk-serial\"><div class=\"sk-item\"><div class=\"sk-parallel\"><div class=\"sk-parallel-item\"><div class=\"sk-item\"><div class=\"sk-label-container\"><div class=\"sk-label sk-toggleable\"><label>xgb</label></div></div><div class=\"sk-serial\"><div class=\"sk-item\"><div class=\"sk-estimator sk-toggleable\"><input class=\"sk-toggleable__control sk-hidden--visually\" id=\"sk-estimator-id-2\" type=\"checkbox\" ><label for=\"sk-estimator-id-2\" class=\"sk-toggleable__label sk-toggleable__label-arrow\">XGBRegressor</label><div class=\"sk-toggleable__content\"><pre>XGBRegressor(base_score=None, booster=None, callbacks=None,\n",
       "             colsample_bylevel=None, colsample_bynode=None,\n",
       "             colsample_bytree=None, device=None, early_stopping_rounds=None,\n",
       "             enable_categorical=False, eval_metric=None, feature_types=None,\n",
       "             gamma=None, grow_policy=None, importance_type=None,\n",
       "             interaction_constraints=None, learning_rate=0.05, max_bin=None,\n",
       "             max_cat_threshold=None, max_cat_to_onehot=None,\n",
       "             max_delta_step=None, max_depth=None, max_leaves=None,\n",
       "             min_child_weight=None, missing=nan, monotone_constraints=None,\n",
       "             multi_strategy=None, n_estimators=200, n_jobs=-1,\n",
       "             num_parallel_tree=None, random_state=42, ...)</pre></div></div></div></div></div></div><div class=\"sk-parallel-item\"><div class=\"sk-item\"><div class=\"sk-label-container\"><div class=\"sk-label sk-toggleable\"><label>lgb</label></div></div><div class=\"sk-serial\"><div class=\"sk-item\"><div class=\"sk-estimator sk-toggleable\"><input class=\"sk-toggleable__control sk-hidden--visually\" id=\"sk-estimator-id-3\" type=\"checkbox\" ><label for=\"sk-estimator-id-3\" class=\"sk-toggleable__label sk-toggleable__label-arrow\">LGBMRegressor</label><div class=\"sk-toggleable__content\"><pre>LGBMRegressor(learning_rate=0.05, n_estimators=200, random_state=42)</pre></div></div></div></div></div></div></div></div><div class=\"sk-item\"><div class=\"sk-parallel\"><div class=\"sk-parallel-item\"><div class=\"sk-item\"><div class=\"sk-label-container\"><div class=\"sk-label sk-toggleable\"><label>final_estimator</label></div></div><div class=\"sk-serial\"><div class=\"sk-item\"><div class=\"sk-estimator sk-toggleable\"><input class=\"sk-toggleable__control sk-hidden--visually\" id=\"sk-estimator-id-4\" type=\"checkbox\" ><label for=\"sk-estimator-id-4\" class=\"sk-toggleable__label sk-toggleable__label-arrow\">RandomForestRegressor</label><div class=\"sk-toggleable__content\"><pre>RandomForestRegressor(n_estimators=200, random_state=42)</pre></div></div></div></div></div></div></div></div></div></div></div></div>"
      ],
      "text/plain": [
       "StackingRegressor(estimators=[('xgb',\n",
       "                               XGBRegressor(base_score=None, booster=None,\n",
       "                                            callbacks=None,\n",
       "                                            colsample_bylevel=None,\n",
       "                                            colsample_bynode=None,\n",
       "                                            colsample_bytree=None, device=None,\n",
       "                                            early_stopping_rounds=None,\n",
       "                                            enable_categorical=False,\n",
       "                                            eval_metric=None,\n",
       "                                            feature_types=None, gamma=None,\n",
       "                                            grow_policy=None,\n",
       "                                            importance_type=None,\n",
       "                                            interaction_constraints=None,\n",
       "                                            learning_ra...\n",
       "                                            max_delta_step=None, max_depth=None,\n",
       "                                            max_leaves=None,\n",
       "                                            min_child_weight=None, missing=nan,\n",
       "                                            monotone_constraints=None,\n",
       "                                            multi_strategy=None,\n",
       "                                            n_estimators=200, n_jobs=-1,\n",
       "                                            num_parallel_tree=None,\n",
       "                                            random_state=42, ...)),\n",
       "                              ('lgb',\n",
       "                               LGBMRegressor(learning_rate=0.05,\n",
       "                                             n_estimators=200,\n",
       "                                             random_state=42))],\n",
       "                  final_estimator=RandomForestRegressor(n_estimators=200,\n",
       "                                                        random_state=42),\n",
       "                  n_jobs=-1)"
      ]
     },
     "execution_count": 12,
     "metadata": {},
     "output_type": "execute_result"
    }
   ],
   "source": [
    "# Models # 🤖 Model Training:\n",
    "rf = RandomForestRegressor(n_estimators=200, random_state=42)\n",
    "xgb = XGBRegressor(n_estimators=200, learning_rate=0.05, random_state=42, n_jobs=-1)\n",
    "lgb = LGBMRegressor(n_estimators=200, learning_rate=0.05, random_state=42)\n",
    "\n",
    "# Stacking\n",
    "stacked_model = StackingRegressor(\n",
    "    estimators=[('xgb', xgb), ('lgb', lgb)],\n",
    "    final_estimator=rf,\n",
    "    n_jobs=-1\n",
    ")\n",
    "\n",
    "# Train stacked model\n",
    "stacked_model.fit(X_train, y_train)"
   ]
  },
  {
   "cell_type": "code",
   "execution_count": 13,
   "id": "21c5ddab",
   "metadata": {
    "execution": {
     "iopub.execute_input": "2025-04-15T18:15:03.118181Z",
     "iopub.status.busy": "2025-04-15T18:15:03.117647Z",
     "iopub.status.idle": "2025-04-15T18:15:03.156402Z",
     "shell.execute_reply": "2025-04-15T18:15:03.154725Z"
    },
    "papermill": {
     "duration": 0.052132,
     "end_time": "2025-04-15T18:15:03.158788",
     "exception": false,
     "start_time": "2025-04-15T18:15:03.106656",
     "status": "completed"
    },
    "tags": []
   },
   "outputs": [
    {
     "name": "stdout",
     "output_type": "stream",
     "text": [
      "\n",
      "Validation RMSE: 22.3121\n",
      "Validation R^2 Score: -0.1803\n"
     ]
    }
   ],
   "source": [
    "val_preds = stacked_model.predict(X_val)\n",
    "rmse = np.sqrt(mean_squared_error(y_val, val_preds))\n",
    "r2 = r2_score(y_val, val_preds)\n",
    "print(f\"\\nValidation RMSE: {rmse:.4f}\")\n",
    "print(f\"Validation R^2 Score: {r2:.4f}\")"
   ]
  },
  {
   "cell_type": "code",
   "execution_count": 14,
   "id": "27cb5c2e",
   "metadata": {
    "execution": {
     "iopub.execute_input": "2025-04-15T18:15:03.179962Z",
     "iopub.status.busy": "2025-04-15T18:15:03.179512Z",
     "iopub.status.idle": "2025-04-15T18:15:03.205274Z",
     "shell.execute_reply": "2025-04-15T18:15:03.203928Z"
    },
    "papermill": {
     "duration": 0.039139,
     "end_time": "2025-04-15T18:15:03.207710",
     "exception": false,
     "start_time": "2025-04-15T18:15:03.168571",
     "status": "completed"
    },
    "tags": []
   },
   "outputs": [],
   "source": [
    "# Predict and save submission\n",
    "submission_preds = stacked_model.predict(X_test_scaled)\n",
    "submission_file[\"T80\"] = submission_preds\n",
    "submission_file.to_csv(\"submission.csv\", index=False)"
   ]
  },
  {
   "cell_type": "code",
   "execution_count": null,
   "id": "068f0add",
   "metadata": {
    "papermill": {
     "duration": 0.009362,
     "end_time": "2025-04-15T18:15:03.226826",
     "exception": false,
     "start_time": "2025-04-15T18:15:03.217464",
     "status": "completed"
    },
    "tags": []
   },
   "outputs": [],
   "source": []
  }
 ],
 "metadata": {
  "kaggle": {
   "accelerator": "none",
   "dataSources": [
    {
     "databundleVersionId": 11467685,
     "sourceId": 90087,
     "sourceType": "competition"
    }
   ],
   "dockerImageVersionId": 30918,
   "isGpuEnabled": false,
   "isInternetEnabled": true,
   "language": "python",
   "sourceType": "notebook"
  },
  "kernelspec": {
   "display_name": "Python 3",
   "language": "python",
   "name": "python3"
  },
  "language_info": {
   "codemirror_mode": {
    "name": "ipython",
    "version": 3
   },
   "file_extension": ".py",
   "mimetype": "text/x-python",
   "name": "python",
   "nbconvert_exporter": "python",
   "pygments_lexer": "ipython3",
   "version": "3.10.12"
  },
  "papermill": {
   "default_parameters": {},
   "duration": 24.422211,
   "end_time": "2025-04-15T18:15:04.565616",
   "environment_variables": {},
   "exception": null,
   "input_path": "__notebook__.ipynb",
   "output_path": "__notebook__.ipynb",
   "parameters": {},
   "start_time": "2025-04-15T18:14:40.143405",
   "version": "2.6.0"
  }
 },
 "nbformat": 4,
 "nbformat_minor": 5
}
